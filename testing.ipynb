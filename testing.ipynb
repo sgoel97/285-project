{
 "cells": [
  {
   "cell_type": "code",
   "execution_count": 2,
   "metadata": {},
   "outputs": [],
   "source": [
    "import pandas as pd"
   ]
  },
  {
   "cell_type": "code",
   "execution_count": 12,
   "metadata": {},
   "outputs": [],
   "source": [
    "demos = pd.read_pickle(\"./cs285/experts/expert_data_Cartpole-v1.pkl\")"
   ]
  },
  {
   "cell_type": "code",
   "execution_count": 15,
   "metadata": {},
   "outputs": [
    {
     "data": {
      "text/plain": [
       "(1000,)"
      ]
     },
     "execution_count": 15,
     "metadata": {},
     "output_type": "execute_result"
    }
   ],
   "source": [
    "demos[0][\"terminal\"].shape"
   ]
  },
  {
   "cell_type": "code",
   "execution_count": 14,
   "metadata": {},
   "outputs": [
    {
     "data": {
      "text/plain": [
       "(1000, 4)"
      ]
     },
     "execution_count": 14,
     "metadata": {},
     "output_type": "execute_result"
    }
   ],
   "source": [
    "demos[1][\"observation\"].shape"
   ]
  },
  {
   "cell_type": "code",
   "execution_count": 7,
   "metadata": {},
   "outputs": [
    {
     "data": {
      "text/plain": [
       "(1000,)"
      ]
     },
     "execution_count": 7,
     "metadata": {},
     "output_type": "execute_result"
    }
   ],
   "source": [
    "demos[1][\"reward\"].shape"
   ]
  },
  {
   "cell_type": "code",
   "execution_count": 14,
   "metadata": {},
   "outputs": [
    {
     "data": {
      "text/plain": [
       "2"
      ]
     },
     "execution_count": 14,
     "metadata": {},
     "output_type": "execute_result"
    }
   ],
   "source": [
    "len(demos)"
   ]
  },
  {
   "cell_type": "code",
   "execution_count": 25,
   "metadata": {},
   "outputs": [],
   "source": [
    "demos = pd.read_pickle(\"./cs285/experts/expert_data_Hopper-v4.pkl\")"
   ]
  },
  {
   "cell_type": "code",
   "execution_count": 26,
   "metadata": {},
   "outputs": [
    {
     "data": {
      "text/plain": [
       "(1000, 11)"
      ]
     },
     "execution_count": 26,
     "metadata": {},
     "output_type": "execute_result"
    }
   ],
   "source": [
    "demos[1][\"observation\"].shape"
   ]
  },
  {
   "cell_type": "code",
   "execution_count": 27,
   "metadata": {},
   "outputs": [
    {
     "data": {
      "text/plain": [
       "(1000,)"
      ]
     },
     "execution_count": 27,
     "metadata": {},
     "output_type": "execute_result"
    }
   ],
   "source": [
    "demos[1][\"reward\"].shape"
   ]
  },
  {
   "cell_type": "code",
   "execution_count": 18,
   "metadata": {},
   "outputs": [
    {
     "data": {
      "text/plain": [
       "2"
      ]
     },
     "execution_count": 18,
     "metadata": {},
     "output_type": "execute_result"
    }
   ],
   "source": [
    "len(demos)"
   ]
  },
  {
   "cell_type": "code",
   "execution_count": 34,
   "metadata": {},
   "outputs": [],
   "source": [
    "demos = pd.read_pickle(\"./cs285/experts/expert_data_Cartpole-v1.pkl\")"
   ]
  },
  {
   "cell_type": "code",
   "execution_count": 36,
   "metadata": {},
   "outputs": [
    {
     "data": {
      "text/plain": [
       "(1000, 4)"
      ]
     },
     "execution_count": 36,
     "metadata": {},
     "output_type": "execute_result"
    }
   ],
   "source": [
    "demos[0][\"observation\"].shape"
   ]
  },
  {
   "cell_type": "code",
   "execution_count": 38,
   "metadata": {},
   "outputs": [
    {
     "data": {
      "text/plain": [
       "(1000,)"
      ]
     },
     "execution_count": 38,
     "metadata": {},
     "output_type": "execute_result"
    }
   ],
   "source": [
    "demos[0][\"reward\"].shape"
   ]
  },
  {
   "cell_type": "code",
   "execution_count": 39,
   "metadata": {},
   "outputs": [
    {
     "data": {
      "text/plain": [
       "2"
      ]
     },
     "execution_count": 39,
     "metadata": {},
     "output_type": "execute_result"
    }
   ],
   "source": [
    "len(demos)"
   ]
  },
  {
   "cell_type": "code",
   "execution_count": 19,
   "metadata": {},
   "outputs": [],
   "source": [
    "from sklearn.cluster import AgglomerativeClustering\n",
    "\n",
    "clustering_model = AgglomerativeClustering(\n",
    "    n_clusters=None, metric=\"l2\", linkage=\"average\", distance_threshold=0.5\n",
    ")"
   ]
  },
  {
   "cell_type": "code",
   "execution_count": 2,
   "metadata": {},
   "outputs": [
    {
     "ename": "NameError",
     "evalue": "name 'clustering_model' is not defined",
     "output_type": "error",
     "traceback": [
      "\u001b[0;31m---------------------------------------------------------------------------\u001b[0m",
      "\u001b[0;31mNameError\u001b[0m                                 Traceback (most recent call last)",
      "\u001b[1;32m/Users/samarthgoel/Desktop/285-project/testing.ipynb Cell 16\u001b[0m line \u001b[0;36m<cell line: 3>\u001b[0;34m()\u001b[0m\n\u001b[1;32m      <a href='vscode-notebook-cell:/Users/samarthgoel/Desktop/285-project/testing.ipynb#X21sZmlsZQ%3D%3D?line=0'>1</a>\u001b[0m \u001b[39mimport\u001b[39;00m \u001b[39mnumpy\u001b[39;00m \u001b[39mas\u001b[39;00m \u001b[39mnp\u001b[39;00m\n\u001b[0;32m----> <a href='vscode-notebook-cell:/Users/samarthgoel/Desktop/285-project/testing.ipynb#X21sZmlsZQ%3D%3D?line=2'>3</a>\u001b[0m clustering_model\u001b[39m.\u001b[39mfit(np\u001b[39m.\u001b[39marray([[\u001b[39m1\u001b[39m, \u001b[39m2\u001b[39m], [\u001b[39m1\u001b[39m, \u001b[39m4\u001b[39m], [\u001b[39m1\u001b[39m, \u001b[39m0\u001b[39m], [\u001b[39m4\u001b[39m, \u001b[39m2\u001b[39m], [\u001b[39m4\u001b[39m, \u001b[39m4\u001b[39m], [\u001b[39m4\u001b[39m, \u001b[39m0\u001b[39m]]))\n",
      "\u001b[0;31mNameError\u001b[0m: name 'clustering_model' is not defined"
     ]
    }
   ],
   "source": [
    "import numpy as np\n",
    "\n",
    "clustering_model.fit(np.array([[1, 2], [1, 4], [1, 0], [4, 2], [4, 4], [4, 0]]))"
   ]
  },
  {
   "cell_type": "code",
   "execution_count": 34,
   "metadata": {},
   "outputs": [],
   "source": [
    "from tensorboard.backend.event_processing import event_accumulator\n",
    "import pandas as pd\n",
    "\n",
    "\n",
    "def parse_tensorboard(path, scalars):\n",
    "    \"\"\"returns a dictionary of pandas dataframes for each requested scalar\"\"\"\n",
    "    ea = event_accumulator.EventAccumulator(\n",
    "        path,\n",
    "        size_guidance={event_accumulator.SCALARS: 0},\n",
    "    )\n",
    "    _absorb_print = ea.Reload()\n",
    "    print(ea.Tags())\n",
    "    # make sure the scalars are in the event accumulator tags\n",
    "    assert all(\n",
    "        s in ea.Tags()[\"scalars\"] for s in scalars\n",
    "    ), \"some scalars were not found in the event accumulator\"\n",
    "    return {k: pd.DataFrame(ea.Scalars(k)) for k in scalars}"
   ]
  },
  {
   "cell_type": "code",
   "execution_count": 35,
   "metadata": {},
   "outputs": [
    {
     "name": "stdout",
     "output_type": "stream",
     "text": [
      "{'images': [], 'audio': [], 'histograms': [], 'scalars': ['batch_size', 'bc/batch', 'bc/ent_loss', 'bc/entropy', 'bc/epoch', 'bc/l2_loss', 'bc/l2_norm', 'bc/loss', 'bc/neglogp', 'bc/prob_true_act', 'bc/samples_so_far', 'rollout/return_max', 'rollout/return_mean', 'rollout/return_min', 'rollout/return_std'], 'distributions': [], 'tensors': [], 'graph': False, 'meta_graph': False, 'run_metadata': []}\n"
     ]
    }
   ],
   "source": [
    "rollout_stats = [\n",
    "    \"rollout/return_max\",\n",
    "    \"rollout/return_mean\",\n",
    "    \"rollout/return_min\",\n",
    "    \"rollout/return_std\",\n",
    "]\n",
    "stats = parse_tensorboard(\n",
    "    \"logs/ant/bc_06_23:34:40\",\n",
    "    rollout_stats,\n",
    ")"
   ]
  },
  {
   "cell_type": "code",
   "execution_count": 40,
   "metadata": {},
   "outputs": [
    {
     "data": {
      "text/plain": [
       "<Axes: >"
      ]
     },
     "execution_count": 40,
     "metadata": {},
     "output_type": "execute_result"
    },
    {
     "data": {
      "image/png": "[encoded data removed]",
      "text/plain": [
       "<Figure size 432x288 with 1 Axes>"
      ]
     },
     "metadata": {
      "needs_background": "light"
     },
     "output_type": "display_data"
    }
   ],
   "source": [
    "stats[\"rollout/return_mean\"].value.plot()"
   ]
  },
  {
   "cell_type": "code",
   "execution_count": 6,
   "metadata": {},
   "outputs": [
    {
     "data": {
      "text/plain": [
       "1"
      ]
     },
     "execution_count": 6,
     "metadata": {},
     "output_type": "execute_result"
    }
   ],
   "source": [
    "from scipy import stats\n",
    "\n",
    "stats.mode([1, 1, 2, 3], keepdims=False).mode"
   ]
  },
  {
   "cell_type": "code",
   "execution_count": 4,
   "metadata": {},
   "outputs": [
    {
     "data": {
      "text/plain": [
       "1.4"
      ]
     },
     "execution_count": 4,
     "metadata": {},
     "output_type": "execute_result"
    }
   ],
   "source": [
    "import numpy as np\n",
    "\n",
    "np.percentile(np.array([1, 2, 3]), 20)"
   ]
  },
  {
   "cell_type": "code",
   "execution_count": 6,
   "metadata": {},
   "outputs": [
    {
     "name": "stdout",
     "output_type": "stream",
     "text": [
      "timesteps\n",
      "[   4000    8000   12000   16000   20000   24000   28000   32000   36000\n",
      "   40000   44000   48000   52000   56000   60000   64000   68000   72000\n",
      "   76000   80000   84000   88000   92000   96000  100000  104000  108000\n",
      "  112000  116000  120000  124000  128000  132000  136000  140000  144000\n",
      "  148000  152000  156000  160000  164000  168000  172000  176000  180000\n",
      "  184000  188000  192000  196000  200000  204000  208000  212000  216000\n",
      "  220000  224000  228000  232000  236000  240000  244000  248000  252000\n",
      "  256000  260000  264000  268000  272000  276000  280000  284000  288000\n",
      "  292000  296000  300000  304000  308000  312000  316000  320000  324000\n",
      "  328000  332000  336000  340000  344000  348000  352000  356000  360000\n",
      "  364000  368000  372000  376000  380000  384000  388000  392000  396000\n",
      "  400000  404000  408000  412000  416000  420000  424000  428000  432000\n",
      "  436000  440000  444000  448000  452000  456000  460000  464000  468000\n",
      "  472000  476000  480000  484000  488000  492000  496000  500000  504000\n",
      "  508000  512000  516000  520000  524000  528000  532000  536000  540000\n",
      "  544000  548000  552000  556000  560000  564000  568000  572000  576000\n",
      "  580000  584000  588000  592000  596000  600000  604000  608000  612000\n",
      "  616000  620000  624000  628000  632000  636000  640000  644000  648000\n",
      "  652000  656000  660000  664000  668000  672000  676000  680000  684000\n",
      "  688000  692000  696000  700000  704000  708000  712000  716000  720000\n",
      "  724000  728000  732000  736000  740000  744000  748000  752000  756000\n",
      "  760000  764000  768000  772000  776000  780000  784000  788000  792000\n",
      "  796000  800000  804000  808000  812000  816000  820000  824000  828000\n",
      "  832000  836000  840000  844000  848000  852000  856000  860000  864000\n",
      "  868000  872000  876000  880000  884000  888000  892000  896000  900000\n",
      "  904000  908000  912000  916000  920000  924000  928000  932000  936000\n",
      "  940000  944000  948000  952000  956000  960000  964000  968000  972000\n",
      "  976000  980000  984000  988000  992000  996000 1000000]\n",
      "results\n",
      "[[ 10.  10.  10.  10.  10.]\n",
      " [  9.  10.  10.  11.  11.]\n",
      " [  8.   8.   9.  10.  11.]\n",
      " ...\n",
      " [ 36. 103. 500. 500. 500.]\n",
      " [ 35. 500. 500. 500. 500.]\n",
      " [ 30.  36.  52.  53. 500.]]\n",
      "ep_lengths\n",
      "[[ 10  10  10  10  10]\n",
      " [  9  10  10  11  11]\n",
      " [  8   8   9  10  11]\n",
      " ...\n",
      " [ 36 103 500 500 500]\n",
      " [ 35 500 500 500 500]\n",
      " [ 30  36  52  53 500]]\n"
     ]
    }
   ],
   "source": [
    "from numpy import load\n",
    "\n",
    "data = load(\"evaluations.npz\")\n",
    "lst = data.files\n",
    "for item in lst:\n",
    "    print(item)\n",
    "    print(data[item])"
   ]
  },
  {
   "cell_type": "code",
   "execution_count": 15,
   "metadata": {},
   "outputs": [
    {
     "data": {
      "text/plain": [
       "array([[ 10,  10,  10,  10,  10],\n",
       "       [  9,  10,  10,  11,  11],\n",
       "       [  8,   8,   9,  10,  11],\n",
       "       ...,\n",
       "       [ 36, 103, 500, 500, 500],\n",
       "       [ 35, 500, 500, 500, 500],\n",
       "       [ 30,  36,  52,  53, 500]])"
      ]
     },
     "execution_count": 15,
     "metadata": {},
     "output_type": "execute_result"
    }
   ],
   "source": [
    "data[\"ep_lengths\"]"
   ]
  },
  {
   "cell_type": "code",
   "execution_count": 13,
   "metadata": {},
   "outputs": [
    {
     "data": {
      "text/plain": [
       "['timesteps', 'results', 'ep_lengths']"
      ]
     },
     "execution_count": 13,
     "metadata": {},
     "output_type": "execute_result"
    }
   ],
   "source": [
    "lst"
   ]
  },
  {
   "cell_type": "code",
   "execution_count": 17,
   "metadata": {},
   "outputs": [
    {
     "data": {
      "image/png": "[encoded data removed]",
      "text/plain": [
       "<Figure size 432x288 with 1 Axes>"
      ]
     },
     "metadata": {
      "needs_background": "light"
     },
     "output_type": "display_data"
    }
   ],
   "source": [
    "import matplotlib.pyplot as plt\n",
    "\n",
    "# Sample data (replace these with your actual data)\n",
    "mean_values = [20, 21, 19, 20, 22]\n",
    "min_values = [18, 19, 17, 18, 20]\n",
    "max_values = [25, 22, 21, 23, 24]\n",
    "\n",
    "# Ensure that all lists are of the same length\n",
    "if not (len(mean_values) == len(min_values) == len(max_values)):\n",
    "    raise ValueError(\"All lists must be of the same length.\")\n",
    "\n",
    "# Plotting\n",
    "plt.plot(mean_values, label=\"Mean\")\n",
    "plt.fill_between(\n",
    "    range(len(mean_values)), min_values, mean_values, color=\"blue\", alpha=0.2\n",
    ")\n",
    "plt.fill_between(\n",
    "    range(len(mean_values)), mean_values, max_values, color=\"blue\", alpha=0.2\n",
    ")\n",
    "\n",
    "# Finalizing the Plot\n",
    "plt.title(\"Line Plot with Shaded Areas\")\n",
    "plt.xlabel(\"Data Points\")\n",
    "plt.ylabel(\"Values\")\n",
    "plt.legend()\n",
    "plt.show()"
   ]
  },
  {
   "cell_type": "code",
   "execution_count": null,
   "metadata": {},
   "outputs": [],
   "source": []
  }
 ],
 "metadata": {
  "kernelspec": {
   "display_name": "Python 3 (ipykernel)",
   "language": "python",
   "name": "python3"
  },
  "language_info": {
   "codemirror_mode": {
    "name": "ipython",
    "version": 3
   },
   "file_extension": ".py",
   "mimetype": "text/x-python",
   "name": "python",
   "nbconvert_exporter": "python",
   "pygments_lexer": "ipython3",
   "version": "3.8.9"
  }
 },
 "nbformat": 4,
 "nbformat_minor": 4
}
